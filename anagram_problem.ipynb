{
 "cells": [
  {
   "cell_type": "markdown",
   "metadata": {
    "collapsed": true,
    "pycharm": {
     "name": "#%% md\n"
    }
   },
   "source": [
    "### Anagram problem overview\n",
    "\n",
    "#### Interview Question #4\n",
    "\n",
    "Construct an algorithm to check whether two words (or phrases) are anagrams or not!\n",
    "\n",
    "\"An anagram is a word or phrase formed by rearranging the letters of a different word or phrase, typically using all the original letters exactly once\"\n",
    "\n",
    "For example: restful and fluster"
   ]
  },
  {
   "cell_type": "code",
   "execution_count": 1,
   "outputs": [],
   "source": [
    "def is_anagram(word1, word2):\n",
    "    # if the lenght of the strings differ - they are not anagrams\n",
    "    if len(word1) != len(word2):\n",
    "        return False\n",
    "    # Sort the letters of the strings and then compare the letters with the same indexes\n",
    "    # this is the bottleneck because it has O(NlogN)\n",
    "    word1 = sorted(word1)\n",
    "    word2 = sorted(word2)\n",
    "    for i in range(len(word1)):\n",
    "        if word1[i] != word2[i]:\n",
    "            return False\n",
    "    return True"
   ],
   "metadata": {
    "collapsed": false,
    "pycharm": {
     "name": "#%%\n"
    }
   }
  }
 ],
 "metadata": {
  "kernelspec": {
   "display_name": "Python 3",
   "language": "python",
   "name": "python3"
  },
  "language_info": {
   "codemirror_mode": {
    "name": "ipython",
    "version": 2
   },
   "file_extension": ".py",
   "mimetype": "text/x-python",
   "name": "python",
   "nbconvert_exporter": "python",
   "pygments_lexer": "ipython2",
   "version": "2.7.6"
  }
 },
 "nbformat": 4,
 "nbformat_minor": 0
}