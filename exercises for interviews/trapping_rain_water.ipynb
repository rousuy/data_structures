{
 "cells": [
  {
   "cell_type": "markdown",
   "metadata": {
    "collapsed": true,
    "pycharm": {
     "name": "#%% md\n"
    }
   },
   "source": [
    "### Trapping rain water problem overview\n",
    "\n",
    "Given n non-negative integers representing an elevation map where the width of each bar is 1. Compute how much water it can trap after raining!\n",
    "Here the elevation map (the input for the algorithm) is [4,1,3,1,5] and the output is the total units of trapped rain water - which is 7.\n",
    "Good luck!"
   ]
  },
  {
   "cell_type": "code",
   "execution_count": 7,
   "outputs": [],
   "source": [
    "def trapping_water(heights):\n",
    "    if len(heights) < 3:\n",
    "        return 0\n",
    "    left_max = [0 for _ in range(len(heights))]\n",
    "    right_max = [0 for _ in range(len(heights))]\n",
    "\n",
    "    # dealing with the left max values\n",
    "    for i in range(1, len(heights)):\n",
    "        left_max[i] = max(left_max[i - 1], heights[i - 1])\n",
    "\n",
    "    # dealing with the right max values\n",
    "    for i in range(len(heights) -2, -1, -1):\n",
    "        right_max[i] = max(right_max[i + 1], heights[i + 1])\n",
    "\n",
    "    # consider all the items in O(n) and sum up the trapped rain water units\n",
    "    trapped = 0\n",
    "    for i in range(1, len(heights) - 1):\n",
    "        trapped += min(left_max[i], right_max[i] - heights[i])\n",
    "\n",
    "    return trapped"
   ],
   "metadata": {
    "collapsed": false,
    "pycharm": {
     "name": "#%%\n"
    }
   }
  },
  {
   "cell_type": "code",
   "execution_count": 10,
   "outputs": [
    {
     "data": {
      "text/plain": "6"
     },
     "execution_count": 10,
     "metadata": {},
     "output_type": "execute_result"
    }
   ],
   "source": [
    "trapping_water([1, 2, 3, 4, 5, 6])"
   ],
   "metadata": {
    "collapsed": false,
    "pycharm": {
     "name": "#%%\n"
    }
   }
  }
 ],
 "metadata": {
  "kernelspec": {
   "display_name": "Python 3",
   "language": "python",
   "name": "python3"
  },
  "language_info": {
   "codemirror_mode": {
    "name": "ipython",
    "version": 2
   },
   "file_extension": ".py",
   "mimetype": "text/x-python",
   "name": "python",
   "nbconvert_exporter": "python",
   "pygments_lexer": "ipython2",
   "version": "2.7.6"
  }
 },
 "nbformat": 4,
 "nbformat_minor": 0
}