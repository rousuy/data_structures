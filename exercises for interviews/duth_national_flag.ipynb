{
 "cells": [
  {
   "cell_type": "markdown",
   "metadata": {
    "collapsed": true,
    "pycharm": {
     "name": "#%% md\n"
    }
   },
   "source": [
    "### Dutch national flag problem overview\n",
    "\n",
    "The problem is that we want to sort a T[ ] one-dimensional array of integers in O(N) running time - and without any extra memory.\n",
    "The array can contain values: 0, 1 and 2 (check out the theoretical section for further information).\n",
    "\n",
    "Good luck!"
   ]
  },
  {
   "cell_type": "code",
   "execution_count": 2,
   "outputs": [],
   "source": [
    "def dutch_flag(nums, pivot=1):\n",
    "    i = 0\n",
    "    j = 0\n",
    "    k = len(nums) - 1\n",
    "    # current element is 0\n",
    "    while j <= k:\n",
    "        if nums[j] < pivot:\n",
    "            swap(nums, i, j)\n",
    "            i += 1\n",
    "            j += 1\n",
    "        # current element is 2\n",
    "        elif nums[j] > pivot:\n",
    "            swap(nums, j, k)\n",
    "            k -= 1\n",
    "        # current element is 1\n",
    "        else:\n",
    "            j += 1\n",
    "    return nums\n",
    "\n",
    "\n",
    "def swap(nums, index1, index2):\n",
    "    nums[index1], nums[index2] = nums[index2], nums[index1]"
   ],
   "metadata": {
    "collapsed": false,
    "pycharm": {
     "name": "#%%\n"
    }
   }
  },
  {
   "cell_type": "code",
   "execution_count": 3,
   "outputs": [
    {
     "data": {
      "text/plain": "[0, 0, 0, 1, 1, 1, 1, 2, 2, 2]"
     },
     "execution_count": 3,
     "metadata": {},
     "output_type": "execute_result"
    }
   ],
   "source": [
    "dutch_flag([0,1,2,0,0,1,2,2,1,1,])"
   ],
   "metadata": {
    "collapsed": false,
    "pycharm": {
     "name": "#%%\n"
    }
   }
  }
 ],
 "metadata": {
  "kernelspec": {
   "display_name": "Python 3",
   "language": "python",
   "name": "python3"
  },
  "language_info": {
   "codemirror_mode": {
    "name": "ipython",
    "version": 2
   },
   "file_extension": ".py",
   "mimetype": "text/x-python",
   "name": "python",
   "nbconvert_exporter": "python",
   "pygments_lexer": "ipython2",
   "version": "2.7.6"
  }
 },
 "nbformat": 4,
 "nbformat_minor": 0
}