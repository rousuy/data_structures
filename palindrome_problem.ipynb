{
 "cells": [
  {
   "cell_type": "markdown",
   "metadata": {
    "collapsed": true,
    "pycharm": {
     "name": "#%% md\n"
    }
   },
   "source": [
    "### Palindrome problem overview\n",
    "\n",
    "#### Interview Question #2\n",
    "\n",
    "\"A palindrome is a string that reads the same forward and backward\"\n",
    "\n",
    "For example: radar or madam\n",
    "\n",
    "Our task is to design an optimal algorithm for checking whether a given string is palindrome or not!"
   ]
  },
  {
   "cell_type": "code",
   "execution_count": 1,
   "outputs": [],
   "source": [
    "# Using python methods (easy implementation)\n",
    "def palindrome(word: str)-> bool:\n",
    "    \"\"\"\n",
    "    using if statement  and str slicing to revert and check it if the word parameter is a palindrome or not\n",
    "    :param word: str\n",
    "    :return: boolean\n",
    "    \"\"\"\n",
    "    if word == word[::-1]:\n",
    "        return True\n",
    "    return False"
   ],
   "metadata": {
    "collapsed": false,
    "pycharm": {
     "name": "#%%\n"
    }
   }
  },
  {
   "cell_type": "code",
   "execution_count": 3,
   "outputs": [
    {
     "name": "stdout",
     "output_type": "stream",
     "text": [
      "False\n",
      "False\n"
     ]
    }
   ],
   "source": [
    "print(palindrome('car'))\n",
    "print(palindrome(''))"
   ],
   "metadata": {
    "collapsed": false,
    "pycharm": {
     "name": "#%%\n"
    }
   }
  },
  {
   "cell_type": "code",
   "execution_count": 31,
   "outputs": [],
   "source": [
    "# in the hood\n",
    "def is_palindrom(word: str) -> bool:\n",
    "    original_string = word\n",
    "    # Cast str to list using split method\n",
    "    reversed_string = reverse(word.split())\n",
    "    if original_string == reversed_string:\n",
    "        return True\n",
    "    return False\n",
    "\n",
    "# O(n) linear running time where N is the number of letters in string (word)\n",
    "def reverse(word: list) -> str:\n",
    "    \"\"\"\n",
    "    Receive a list containing a char and reverse it converting to a str\n",
    "    :param word:\n",
    "    :return: str\n",
    "    \"\"\"\n",
    "    # pointing to the first item\n",
    "    start_index = 0\n",
    "    # pointing to the last item\n",
    "    end_index = len(word) - 1\n",
    "    while end_index > start_index:\n",
    "        word[start_index], word[end_index] = word[end_index], word[start_index]\n",
    "        start_index += 1\n",
    "        end_index -= 1\n",
    "    return ''.join(word)"
   ],
   "metadata": {
    "collapsed": false,
    "pycharm": {
     "name": "#%%\n"
    }
   }
  },
  {
   "cell_type": "code",
   "execution_count": 32,
   "outputs": [
    {
     "data": {
      "text/plain": "True"
     },
     "execution_count": 32,
     "metadata": {},
     "output_type": "execute_result"
    }
   ],
   "source": [
    "\n",
    "is_palindrom(\"madam\")\n"
   ],
   "metadata": {
    "collapsed": false,
    "pycharm": {
     "name": "#%%\n"
    }
   }
  }
 ],
 "metadata": {
  "kernelspec": {
   "display_name": "Python 3",
   "language": "python",
   "name": "python3"
  },
  "language_info": {
   "codemirror_mode": {
    "name": "ipython",
    "version": 2
   },
   "file_extension": ".py",
   "mimetype": "text/x-python",
   "name": "python",
   "nbconvert_exporter": "python",
   "pygments_lexer": "ipython2",
   "version": "2.7.6"
  }
 },
 "nbformat": 4,
 "nbformat_minor": 0
}