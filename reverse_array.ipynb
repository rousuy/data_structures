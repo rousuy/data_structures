{
 "cells": [
  {
   "cell_type": "markdown",
   "source": [
    "### Reverse an Array (Interview Question)"
   ],
   "metadata": {
    "collapsed": false,
    "pycharm": {
     "name": "#%% md\n"
    }
   }
  },
  {
   "cell_type": "markdown",
   "source": [
    "#### Interview Question #1\n",
    "\n",
    "The problem is that we want to reverse a T[ ] array in O(N) linear time complexity and we want the algorithm to be in-place as well - so no additional memory can be used!\n",
    "\n",
    "For example: input is [1,2,3,4,5] then the output is [5,4,3,2,1]"
   ],
   "metadata": {
    "collapsed": false,
    "pycharm": {
     "name": "#%% md\n"
    }
   }
  },
  {
   "cell_type": "code",
   "execution_count": 16,
   "metadata": {
    "collapsed": true
   },
   "outputs": [],
   "source": [
    "def reverse(nums):\n",
    "    # pointing to the first item\n",
    "    start_index = 0\n",
    "    # pointing to the last item\n",
    "    end_index = len(nums) - 1\n",
    "\n",
    "    while end_index > start_index:\n",
    "        # keep swapping the items\n",
    "        nums[start_index], nums[end_index] = nums[end_index], nums[start_index]\n",
    "        start_index += 1\n",
    "        end_index -= 1\n"
   ]
  },
  {
   "cell_type": "code",
   "execution_count": 17,
   "outputs": [
    {
     "name": "stdout",
     "output_type": "stream",
     "text": [
      "['rodrigo']\n"
     ]
    }
   ],
   "source": [
    "    n = [1, 2, 3, 4]\n",
    "    reverse(n)\n",
    "    print(n)\n"
   ],
   "metadata": {
    "collapsed": false,
    "pycharm": {
     "name": "#%%\n"
    }
   }
  }
 ],
 "metadata": {
  "kernelspec": {
   "display_name": "Python 3",
   "language": "python",
   "name": "python3"
  },
  "language_info": {
   "codemirror_mode": {
    "name": "ipython",
    "version": 2
   },
   "file_extension": ".py",
   "mimetype": "text/x-python",
   "name": "python",
   "nbconvert_exporter": "python",
   "pygments_lexer": "ipython2",
   "version": "2.7.6"
  }
 },
 "nbformat": 4,
 "nbformat_minor": 0
}